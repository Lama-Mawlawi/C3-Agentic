{
 "cells": [
  {
   "cell_type": "code",
   "execution_count": 18,
   "id": "a1850995",
   "metadata": {},
   "outputs": [],
   "source": [
    "# Setup and imports\n",
    "import os, json\n",
    "from pathlib import Path\n",
    "from typing import List, Tuple, Union\n",
    "\n",
    "from dotenv import load_dotenv\n",
    "from pypdf import PdfReader\n",
    "from openai import OpenAI\n",
    "\n",
    "load_dotenv()\n",
    "client = OpenAI()\n",
    "\n",
    "ROOT = Path.cwd()\n",
    "ME_DIR = ROOT / \"me\"\n",
    "ABOUT_PDF = ME_DIR / \"about_business.pdf\"\n",
    "SUMMARY_TXT = ME_DIR / \"summary.txt\"\n",
    "SYSTEM_PROMPT_FILE = ROOT / \"system_prompt.txt\"\n",
    "\n",
    "DEFAULT_MODEL = os.getenv(\"OPENAI_MODEL\", \"gpt-4o-mini\")\n",
    "\n",
    "\n",
    "def _read_pdf_text(pdf_path: Path, max_chars: int = 25000) -> str:\n",
    "    if not pdf_path.exists():\n",
    "        return \"[about_business.pdf not found]\"\n",
    "    chunks = []\n",
    "    try:\n",
    "        reader = PdfReader(str(pdf_path))\n",
    "        for p in reader.pages:\n",
    "            chunks.append(p.extract_text() or \"\")\n",
    "    except Exception as e:\n",
    "        chunks.append(f\"[PDF read error: {e}]\")\n",
    "    return (\"\\n\".join(chunks))[:max_chars]\n",
    "\n",
    "\n",
    "def _read_text(path: Path, placeholder: str, max_chars: int = 24000) -> str:\n",
    "    if not path.exists():\n",
    "        return placeholder\n",
    "    try:\n",
    "        return path.read_text(encoding=\"utf-8\")[:max_chars]\n",
    "    except Exception as e:\n",
    "        return f\"[read error {path.name}: {e}]\"\n"
   ]
  },
  {
   "cell_type": "code",
   "execution_count": 19,
   "id": "586dc6eb",
   "metadata": {},
   "outputs": [],
   "source": [
    "# Load system prompt and business docs\n",
    "SYSTEM_PROMPT = _read_text(\n",
    "    SYSTEM_PROMPT_FILE,\n",
    "    placeholder=(\n",
    "        \"You are a helpful business assistant. Use the provided business files \"\n",
    "        \"to answer questions, stay on-brand, and keep answers concise.\"\n",
    "    ),\n",
    ")\n",
    "\n",
    "BUSINESS_DOCS = {\n",
    "    \"about_business.pdf\": _read_pdf_text(ABOUT_PDF),\n",
    "    \"summary.txt\": _read_text(SUMMARY_TXT, \"[summary.txt not found]\"),\n",
    "}\n",
    "\n",
    "\n",
    "def build_messages(user_msg: str, history: List[Tuple[str, str]]) -> list:\n",
    "    messages = [{\"role\": \"system\", \"content\": SYSTEM_PROMPT}]\n",
    "\n",
    "    files_blob = (\n",
    "        \"Business files (reference only; do not reveal raw text unless asked):\\n\\n\"\n",
    "        \"[about_business.pdf]\\n\" + BUSINESS_DOCS[\"about_business.pdf\"][:12000] + \"\\n\\n\"\n",
    "        \"[summary.txt]\\n\" + BUSINESS_DOCS[\"summary.txt\"][:8000]\n",
    "    )\n",
    "    messages.append({\"role\": \"system\", \"content\": files_blob})\n",
    "\n",
    "    for u, a in history or []:\n",
    "        if u:\n",
    "            messages.append({\"role\": \"user\", \"content\": u})\n",
    "        if a:\n",
    "            messages.append({\"role\": \"assistant\", \"content\": a})\n",
    "\n",
    "    messages.append({\"role\": \"user\", \"content\": user_msg})\n",
    "    return messages\n"
   ]
  },
  {
   "cell_type": "code",
   "execution_count": 20,
   "id": "6a7ba4d2",
   "metadata": {},
   "outputs": [],
   "source": [
    "# Tools schema and local dispatch\n",
    "TOOLS = [\n",
    "    {\n",
    "        \"type\": \"function\",\n",
    "        \"function\": {\n",
    "            \"name\": \"record_customer_interest\",\n",
    "            \"description\": \"Save a potential customer's contact info and notes.\",\n",
    "            \"parameters\": {\n",
    "                \"type\": \"object\",\n",
    "                \"properties\": {\n",
    "                    \"email\": {\"type\": \"string\"},\n",
    "                    \"name\": {\"type\": \"string\"},\n",
    "                    \"message\": {\"type\": \"string\"},\n",
    "                },\n",
    "                \"required\": [\"email\", \"name\", \"message\"],\n",
    "            },\n",
    "        },\n",
    "    },\n",
    "    {\n",
    "        \"type\": \"function\",\n",
    "        \"function\": {\n",
    "            \"name\": \"record_feedback\",\n",
    "            \"description\": \"Log an unanswered question for follow-up by the team.\",\n",
    "            \"parameters\": {\n",
    "                \"type\": \"object\",\n",
    "                \"properties\": {\n",
    "                    \"question\": {\"type\": \"string\"},\n",
    "                },\n",
    "                \"required\": [\"question\"],\n",
    "            },\n",
    "        },\n",
    "    },\n",
    "]\n",
    "\n",
    "from pathlib import Path as _Path\n",
    "import csv as _csv, json as _json, datetime as _datetime\n",
    "DATA_DIR = _Path(\"data\")\n",
    "DATA_DIR.mkdir(parents=True, exist_ok=True)\n",
    "LEADS_CSV = DATA_DIR / \"leads.csv\"\n",
    "FEEDBACK_JSONL = DATA_DIR / \"feedback.jsonl\"\n",
    "\n",
    "def _record_customer_interest(email: str, name: str, message: str) -> str:\n",
    "    LEADS_CSV.parent.mkdir(parents=True, exist_ok=True)\n",
    "    is_new = not LEADS_CSV.exists()\n",
    "    with LEADS_CSV.open(\"a\", newline=\"\") as f:\n",
    "        writer = _csv.writer(f)\n",
    "        if is_new:\n",
    "            writer.writerow([\"timestamp\", \"name\", \"email\", \"message\"])  # header\n",
    "        writer.writerow([_datetime.datetime.utcnow().isoformat(), name, email, message])\n",
    "    print(f\"[LEAD] {name} <{email}> - {message}\")\n",
    "    return \"Thanks! We've recorded your interest and will reply soon.\"\n",
    "\n",
    "def _record_feedback(question: str) -> str:\n",
    "    FEEDBACK_JSONL.parent.mkdir(parents=True, exist_ok=True)\n",
    "    entry = {\n",
    "        \"timestamp\": _datetime.datetime.utcnow().isoformat(),\n",
    "        \"question\": question,\n",
    "    }\n",
    "    with FEEDBACK_JSONL.open(\"a\") as f:\n",
    "        f.write(_json.dumps(entry) + \"\\n\")\n",
    "    print(f\"[FEEDBACK] {question}\")\n",
    "    return \"Got it - I've logged your question for the team.\"\n",
    "\n",
    "def _call_local_tool(tool_name: str, args_json: str) -> str:\n",
    "    try:\n",
    "        args = json.loads(args_json or \"{}\")\n",
    "    except json.JSONDecodeError as e:\n",
    "        return f\"[Tool args parse error] {e}\"\n",
    "    try:\n",
    "        if tool_name == \"record_customer_interest\":\n",
    "            return _record_customer_interest(**args)\n",
    "        if tool_name == \"record_feedback\":\n",
    "            return _record_feedback(**args)\n",
    "        return f\"[Unknown tool] {tool_name}\"\n",
    "    except Exception as e:\n",
    "        return f\"[Tool error] {e}\"\n"
   ]
  },
  {
   "cell_type": "code",
   "execution_count": 21,
   "id": "98e75e8d",
   "metadata": {},
   "outputs": [],
   "source": [
    "# reply() with tool-calling and fallback to log unknown questions\n",
    "\n",
    "def reply(user_message: str, history: List[Tuple[str, str]] | None = None) -> str:\n",
    "    if history is None:\n",
    "        history = []\n",
    "\n",
    "    messages = build_messages(user_message, history)\n",
    "\n",
    "    # First pass: allow tools\n",
    "    resp = client.chat.completions.create(\n",
    "        model=DEFAULT_MODEL,\n",
    "        messages=messages,\n",
    "        tools=TOOLS,\n",
    "        tool_choice=\"auto\",\n",
    "        temperature=0.4,\n",
    "    )\n",
    "    msg = resp.choices[0].message\n",
    "\n",
    "    if getattr(msg, \"tool_calls\", None):\n",
    "        tool_msgs = []\n",
    "        for tc in msg.tool_calls:\n",
    "            result = _call_local_tool(tc.function.name, tc.function.arguments)\n",
    "            tool_msgs.append(\n",
    "                {\n",
    "                    \"role\": \"tool\",\n",
    "                    \"tool_call_id\": tc.id,\n",
    "                    \"name\": tc.function.name,\n",
    "                    \"content\": result,\n",
    "                }\n",
    "            )\n",
    "        follow = client.chat.completions.create(\n",
    "            model=DEFAULT_MODEL,\n",
    "            messages=messages + [{\"role\": \"assistant\", \"tool_calls\": msg.tool_calls}] + tool_msgs,\n",
    "            temperature=0.4,\n",
    "        )\n",
    "        return follow.choices[0].message.content\n",
    "\n",
    "    # Fallback: gentle policy to use tools when appropriate (not overly strict)\n",
    "    followup_instructions = (\n",
    "        \"Policy for tools: \\n\"\n",
    "        \"- If the question CAN be answered confidently from the provided business files, answer directly (no tools).\\n\"\n",
    "        \"- If the question CANNOT be answered confidently from those files (info missing/ambiguous), then call record_feedback(question) before replying.\\n\"\n",
    "        \"- If the user expresses interest in lessons/consults or asks to be contacted (e.g., 'interested', 'sign up', 'book', 'contact me'), use record_customer_interest(email, name, message).\\n\"\n",
    "        \"- If email/name are not provided, ask for them first; only call the tool after you have them.\"\n",
    "    )\n",
    "    follow2 = client.chat.completions.create(\n",
    "        model=DEFAULT_MODEL,\n",
    "        messages=messages + [\n",
    "            {\"role\": \"assistant\", \"content\": msg.content or \"\"},\n",
    "            {\"role\": \"system\", \"content\": followup_instructions},\n",
    "        ],\n",
    "        tools=TOOLS,\n",
    "        tool_choice=\"auto\",\n",
    "        temperature=0.4,\n",
    "    )\n",
    "    msg2 = follow2.choices[0].message\n",
    "\n",
    "    if getattr(msg2, \"tool_calls\", None):\n",
    "        tool_msgs2 = []\n",
    "        for tc in msg2.tool_calls:\n",
    "            result = _call_local_tool(tc.function.name, tc.function.arguments)\n",
    "            tool_msgs2.append(\n",
    "                {\n",
    "                    \"role\": \"tool\",\n",
    "                    \"tool_call_id\": tc.id,\n",
    "                    \"name\": tc.function.name,\n",
    "                    \"content\": result,\n",
    "                }\n",
    "            )\n",
    "        follow3 = client.chat.completions.create(\n",
    "            model=DEFAULT_MODEL,\n",
    "            messages=messages\n",
    "            + [{\"role\": \"assistant\", \"content\": msg.content or \"\"}]\n",
    "            + [{\"role\": \"assistant\", \"tool_calls\": msg2.tool_calls}]\n",
    "            + tool_msgs2,\n",
    "            temperature=0.4,\n",
    "        )\n",
    "        return follow3.choices[0].message.content\n",
    "\n",
    "    return msg.content\n"
   ]
  },
  {
   "cell_type": "code",
   "execution_count": 22,
   "id": "74a21b06",
   "metadata": {},
   "outputs": [
    {
     "name": "stderr",
     "output_type": "stream",
     "text": [
      "C:\\Users\\Mawlawui\\AppData\\Local\\Temp\\ipykernel_17252\\1643643839.py:56: DeprecationWarning: datetime.datetime.utcnow() is deprecated and scheduled for removal in a future version. Use timezone-aware objects to represent datetimes in UTC: datetime.datetime.now(datetime.UTC).\n",
      "  \"timestamp\": _datetime.datetime.utcnow().isoformat(),\n"
     ]
    },
    {
     "name": "stdout",
     "output_type": "stream",
     "text": [
      "[FEEDBACK] What are your enterprise discounts?\n",
      "If you have any other questions or if you're interested in our tutoring services, please share your name and email, along with a short note! I'm here to help.\n"
     ]
    }
   ],
   "source": [
    "# Quick test\n",
    "print(reply(\"What are your enterprise discounts?\"))\n"
   ]
  },
  {
   "cell_type": "code",
   "execution_count": 23,
   "id": "66328f51",
   "metadata": {},
   "outputs": [
    {
     "name": "stdout",
     "output_type": "stream",
     "text": [
      "At OrbitCoach Tutors, we offer a range of services to help students master challenging subjects, including:\n",
      "\n",
      "1. **1-to-1 Tutoring**: Personalized sessions in Math, Physics, and Computer Science, available live or online.\n",
      "2. **10-Minute Concept Boost**: Quick micro-sessions designed to clarify specific concepts.\n",
      "3. **Homework Clinics & Exam Prep Packs**: Support for homework and preparation for upcoming exams.\n",
      "4. **Progress Dashboards**: Tools for both parents and students to track learning progress.\n",
      "\n",
      "If you're interested in any of these services, please share your name and email, and I can provide more information!\n"
     ]
    }
   ],
   "source": [
    "print(reply(\"what is you services\"))"
   ]
  },
  {
   "cell_type": "code",
   "execution_count": 24,
   "id": "54c2919a",
   "metadata": {},
   "outputs": [
    {
     "name": "stdout",
     "output_type": "stream",
     "text": [
      "Yes, we offer fast \"10-minute concept boost\" micro-sessions for Physics! These sessions are designed to help students quickly grasp specific concepts. If you're interested in scheduling a session, please share your name and email, and I can assist you further!\n"
     ]
    }
   ],
   "source": [
    "print(reply(\"Hi! Do you do Physics micro‑sessions?\"))"
   ]
  },
  {
   "cell_type": "code",
   "execution_count": 25,
   "id": "4e646f65",
   "metadata": {},
   "outputs": [
    {
     "name": "stderr",
     "output_type": "stream",
     "text": [
      "C:\\Users\\Mawlawui\\AppData\\Local\\Temp\\ipykernel_17252\\1643643839.py:49: DeprecationWarning: datetime.datetime.utcnow() is deprecated and scheduled for removal in a future version. Use timezone-aware objects to represent datetimes in UTC: datetime.datetime.now(datetime.UTC).\n",
      "  writer.writerow([_datetime.datetime.utcnow().isoformat(), name, email, message])\n"
     ]
    },
    {
     "name": "stdout",
     "output_type": "stream",
     "text": [
      "[LEAD] Lina <lina@example.com> - Interested in scheduling a session on Sunday.\n",
      "Thank you, Lina! I've noted your interest in scheduling a session on Sunday. Our team will reach out to you shortly to confirm the details. If you have any specific subjects or topics you'd like to focus on, feel free to let us know!\n"
     ]
    }
   ],
   "source": [
    "print(reply(\"I'm interested. My name is Lina, lina@example.com — can we do Sunday?\"))"
   ]
  }
 ],
 "metadata": {
  "kernelspec": {
   "display_name": ".venv",
   "language": "python",
   "name": "python3"
  },
  "language_info": {
   "codemirror_mode": {
    "name": "ipython",
    "version": 3
   },
   "file_extension": ".py",
   "mimetype": "text/x-python",
   "name": "python",
   "nbconvert_exporter": "python",
   "pygments_lexer": "ipython3",
   "version": "3.13.7"
  }
 },
 "nbformat": 4,
 "nbformat_minor": 5
}
